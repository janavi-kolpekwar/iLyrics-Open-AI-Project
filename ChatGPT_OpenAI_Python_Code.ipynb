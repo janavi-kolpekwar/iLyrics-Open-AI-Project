{
  "nbformat": 4,
  "nbformat_minor": 0,
  "metadata": {
    "colab": {
      "provenance": [],
      "authorship_tag": "ABX9TyMfMOEFEsCvZMMDdSs3KnZX",
      "include_colab_link": true
    },
    "kernelspec": {
      "name": "python3",
      "display_name": "Python 3"
    },
    "language_info": {
      "name": "python"
    }
  },
  "cells": [
    {
      "cell_type": "markdown",
      "metadata": {
        "id": "view-in-github",
        "colab_type": "text"
      },
      "source": [
        "<a href=\"https://colab.research.google.com/github/janavi-kolpekwar/iLyrics-Open-AI-Project/blob/main/ChatGPT_OpenAI_Python_Code.ipynb\" target=\"_parent\"><img src=\"https://colab.research.google.com/assets/colab-badge.svg\" alt=\"Open In Colab\"/></a>"
      ]
    },
    {
      "cell_type": "markdown",
      "source": [
        "# Setting up OpenAI Chatbot using API\n",
        "  "
      ],
      "metadata": {
        "id": "GoniN6Fudhn0"
      }
    },
    {
      "cell_type": "code",
      "source": [
        "# install open ai using !pip or !pip3 in your python terminal!\n",
        "import openai\n",
        "import time\n",
        "\n",
        "# modify to add personalized API key!\n",
        "openai.api_key = \"open-AI-key\""
      ],
      "metadata": {
        "id": "eqgsNbDydv3C"
      },
      "execution_count": null,
      "outputs": []
    },
    {
      "cell_type": "markdown",
      "source": [
        "### Initialize ChatGPT-3.5 and create Chat Completion Dictionary\n"
      ],
      "metadata": {
        "id": "loHua1Hwee5w"
      }
    },
    {
      "cell_type": "code",
      "source": [
        "# First call\n",
        "chat_completion = openai.ChatCompletion.create(model=\"gpt-3.5-turbo\",\n",
        "                                messages=[{\"role\": \"user\", \"content\": \"Listen to you\"}])\n",
        "chat_completion.to_dict()\n",
        "\n",
        "# print statement optional\n",
        "print(chat_completion.choices[0].message.content)"
      ],
      "metadata": {
        "id": "uaPWhb8Ke2TZ"
      },
      "execution_count": null,
      "outputs": []
    },
    {
      "cell_type": "markdown",
      "source": [
        "### Setting up Maximum Number of Tokens\n",
        "Essentially, total number of tokens = input(prompt) and result(completion) when interacting with the chatbot (LLM)  "
      ],
      "metadata": {
        "id": "nj_t_iRGfYjw"
      }
    },
    {
      "cell_type": "code",
      "source": [
        "\n",
        "# create a chat completion\n",
        "chat_completion = openai.ChatCompletion.create(model=\"gpt-3.5-turbo\",\n",
        "                                 messages=[{\"role\": \"user\", \"content\": \"Listen to you\"}],\n",
        "                                 max_tokens = 1)\n",
        "# print statement optional\n",
        "print(chat_completion.choices[0].message.content)"
      ],
      "metadata": {
        "id": "mPgJVhiBfHm6"
      },
      "execution_count": null,
      "outputs": []
    },
    {
      "cell_type": "markdown",
      "source": [
        "### Setting up Temperature\n",
        "Indicator of variation for a given Temperature value (0-2), higher the value indicates more randomness"
      ],
      "metadata": {
        "id": "5lsi3D4DgBQg"
      }
    },
    {
      "cell_type": "code",
      "source": [
        "\n",
        "# when Temperature = 0, create a chat completion\n",
        "chat_completion = openai.ChatCompletion.create(model=\"gpt-3.5-turbo\",\n",
        "                                messages=[{\"role\": \"user\", \"content\": \"Listen to you\"}],\n",
        "                                 max_tokens = 2,\n",
        "                                 n=5,\n",
        "                                 temperature=0)\n",
        "# print the chat completion\n",
        "for i in range(len(chat_completion.choices)):\n",
        "    print(chat_completion.choices[i].message.content)\n",
        "\n",
        "# when Temperature = 2, create a chat completion\n",
        "chat_completion = openai.ChatCompletion.create(model=\"gpt-3.5-turbo\",\n",
        "                                messages=[{\"role\": \"user\", \"content\": \"Listen to you\"}],\n",
        "                                 max_tokens = 2,\n",
        "                                 n=5,\n",
        "                                 temperature=2)\n",
        "# print the chat completion\n",
        "for i in range(len(chat_completion.choices)):\n",
        "    print(chat_completion.choices[i].message.content)"
      ],
      "metadata": {
        "id": "Hxe9SUJJgAn4"
      },
      "execution_count": null,
      "outputs": []
    },
    {
      "cell_type": "markdown",
      "source": [
        "#iLyric OpenAI Chatbot\n",
        "### iLyric chatbot is for users who are unable to rememember the rest of a song but only remember the first line or for users who would like to create a song!\n",
        "## Instructions to use:\n",
        "### 1. Initialize prompt using template below\n",
        "### 2. Provide me number of tokens, number of chat completions, and temperature value\n",
        "### 3. Watch as the iLyric chatbot generate a response!"
      ],
      "metadata": {
        "id": "sc_VKAyWhskg"
      }
    },
    {
      "cell_type": "code",
      "source": [
        "# > Initialize prompt with system message and task example:\n",
        "messages_list = [{\"role\":\"system\", \"content\": \"I am iLyric, your lyrics completion assistant. When provided a line from a song, I will give the next line in the song \"},\n",
        "                 {\"role\":\"user\", \"content\": \"I know there's something in the wake of your smile \"},\n",
        "                 {\"role\":\"assistant\", \"content\": \"I get a notion from the look in your eyes, yeah\"},\n",
        "                 {\"role\":\"user\", \"content\": \"You've built a love but that love falls apart\"},\n",
        "                 {\"role\":\"user\", \"content\":\"Listen to your\"}]\n",
        "\n",
        "# response when Temperature = 0\n",
        "for i in range(4):\n",
        "    #create a chat completion\n",
        "    chat_completion = openai.ChatCompletion.create(model=\"gpt-3.5-turbo\",\n",
        "                                messages= messages_list,\n",
        "                                 max_tokens = 15,\n",
        "                                 n=1,\n",
        "                                 temperature=0)\n",
        "    # print the chat completion\n",
        "    print(chat_completion.choices[0].message.content)\n",
        "\n",
        "    new_message = {\"role\":\"assistant\", \"content\":chat_completion.choices[0].message.content} # new message append\n",
        "    messages_list.append(new_message)\n",
        "    time.sleep(0.1)\n",
        "\n",
        "# Actual lyrics:\n",
        "# Listen to your heart, when he's calling for you\n",
        "# Listen to your heart, there's nothing else you can do\n",
        "# I don't know where you're going and I don't know why\n",
        "# But listen to your heart before you tell him goodbye"
      ],
      "metadata": {
        "id": "ADcjrAmdimbw"
      },
      "execution_count": null,
      "outputs": []
    }
  ]
}